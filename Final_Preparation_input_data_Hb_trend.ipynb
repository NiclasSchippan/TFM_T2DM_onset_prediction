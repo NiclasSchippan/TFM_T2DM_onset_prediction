{
 "cells": [
  {
   "cell_type": "code",
   "execution_count": null,
   "id": "d40a20a8-ad82-4c5f-912c-86a09279e04f",
   "metadata": {},
   "outputs": [],
   "source": [
    "# File to create full dataset with all variables based on selected entries"
   ]
  },
  {
   "cell_type": "code",
   "execution_count": null,
   "id": "db576cb8-5049-4928-b233-c16a1c239222",
   "metadata": {
    "editable": true,
    "slideshow": {
     "slide_type": ""
    },
    "tags": []
   },
   "outputs": [],
   "source": [
    "#Load packages\n",
    "import pyreadr\n",
    "import pandas as pd\n",
    "import numpy as np\n",
    "from IPython.display import display "
   ]
  },
  {
   "cell_type": "code",
   "execution_count": null,
   "id": "e798de9b-4c64-4661-bd62-1fde7076af9f",
   "metadata": {},
   "outputs": [],
   "source": [
    "# Load created function\n",
    "from utils import add_latest_entry_before_date, add_latest_diagnosis_entry"
   ]
  },
  {
   "cell_type": "code",
   "execution_count": null,
   "id": "8d307efd-c2f8-460c-9b5a-53fb97203893",
   "metadata": {},
   "outputs": [],
   "source": [
    "# Read-in dataframe generated in R: \"Approach including Trend of HbA1c\"\n",
    "# input_data_trend has been uploaded --> 227k entries \n",
    "input = pyreadr.read_r(\"/home/jupyter-niclas/input_data_trend_NEW.rds\")\n",
    "input_data_trend = next(iter(input.values()))\n",
    "# Renaming of column\n",
    "input_data_trend = input_data_trend.rename(columns={'val': 'val_HbA1c'})\n",
    "display(input_data_trend)"
   ]
  },
  {
   "cell_type": "code",
   "execution_count": null,
   "id": "b6e18772-abb9-42a7-8f57-7332555b5e6f",
   "metadata": {},
   "outputs": [],
   "source": [
    "# Adding column sexe to input_data_trend according to data_poblacio\n",
    "poblacio = pyreadr.read_r(\"/home/dadesSP_berta75/taulesSIDIAP/taulesSIDIAP/ERC_ERC_DM_entregable_poblacio_20240409_202620.rds\")\n",
    "data_poblacio = next(iter(poblacio.values()))\n",
    "input_data_trend = input_data_trend.merge(data_poblacio[['idp', 'sexe']], on='idp', how='left')\n",
    "# Check new column for number of NAs\n",
    "sexe_NA = input_data_trend['sexe'].isna().sum()\n",
    "print (sexe_NA)"
   ]
  },
  {
   "cell_type": "code",
   "execution_count": null,
   "id": "de4acd0c-4876-4844-8efc-6355e45c917b",
   "metadata": {},
   "outputs": [],
   "source": [
    "# Adding column birth_date to input_data_trend according to dnaix from data_poblacio\n",
    "input_data_trend = input_data_trend.merge(data_poblacio[['idp', 'dnaix']], on='idp', how='left')\n",
    "# Check new column for number of NAs\n",
    "dnaix_NA = input_data_trend['dnaix'].isna().sum()\n",
    "print (dnaix_NA)"
   ]
  },
  {
   "cell_type": "code",
   "execution_count": null,
   "id": "96682837-13ed-48d5-8de5-c6b8250649a7",
   "metadata": {},
   "outputs": [],
   "source": [
    "# Using onset-date and birth date to determine age at t0\n",
    "# Convert to datetime format\n",
    "input_data_trend['dat'] = pd.to_datetime(input_data_trend['dat'].astype(str), format='%Y%m%d')\n",
    "input_data_trend['dnaix'] = pd.to_datetime(input_data_trend['dnaix'].astype(str), format='%Y%m%d')\n",
    "# Calculate age (in years)\n",
    "input_data_trend['age'] = (input_data_trend['dat'] - input_data_trend['dnaix']).dt.days // 365\n",
    "# Exclude individuals younger than 18\n",
    "input_data_trend = input_data_trend[input_data_trend['age'] >= 18]\n",
    "# Check for NAs in age\n",
    "age_NA = input_data_trend['age'].isna().sum()\n",
    "print(f\"Number of missing age entries: {age_NA}\")\n",
    "display (input_data_trend)"
   ]
  },
  {
   "cell_type": "code",
   "execution_count": null,
   "id": "d653e9f4-ff60-4cfb-9139-2d6f6822a933",
   "metadata": {},
   "outputs": [],
   "source": [
    "# Adding column smoking status from tabaquisme\n",
    "tabaquisme = pyreadr.read_r(\"/home/dadesSP_berta75/taulesSIDIAP/taulesSIDIAP/ERC_ERC_DM_entregable_tabaquisme_20240409_202620.rds\")\n",
    "data_tabaquisme = next(iter(tabaquisme.values()))\n",
    "# Converting code into smoking status\n",
    "smoking_mapping = {\n",
    "    0: \"No smoker\",\n",
    "    1: \"Smoker\",\n",
    "    2: \"Ex-smoker\"\n",
    "}\n",
    "data_tabaquisme['val'] = data_tabaquisme['val'].replace(smoking_mapping)\n",
    "data_tabaquisme.rename(columns={'val': 'smoking_status'}, inplace=True)"
   ]
  },
  {
   "cell_type": "code",
   "execution_count": null,
   "id": "1b2f802a-d26d-4d92-ae89-88bc70bddf94",
   "metadata": {},
   "outputs": [],
   "source": [
    "input_data_trend = add_latest_entry_before_date(\n",
    "    goal_df=input_data_trend,\n",
    "    data_df=data_tabaquisme,\n",
    "    source_date_col='dat',          \n",
    "    reference_date_col='dat',        \n",
    "    value_col='smoking_status'   \n",
    ")"
   ]
  },
  {
   "cell_type": "code",
   "execution_count": null,
   "id": "67619f43-db6e-429f-9e82-a2368602f6d6",
   "metadata": {},
   "outputs": [],
   "source": [
    "# Adding column alcohol risk consumption from variables_cliniques --> subset ALRIS generated in R\n",
    "alris = pyreadr.read_r(\"Data_preparation/data_ALRIS.rds\")\n",
    "data_alris = next(iter(alris.values()))"
   ]
  },
  {
   "cell_type": "code",
   "execution_count": null,
   "id": "18e97d01-b834-405c-b54b-8b5b1a2f162b",
   "metadata": {},
   "outputs": [],
   "source": [
    "# Converting code into smoking status\n",
    "alc_ris_mapping = {\n",
    "    0: \"No risk consumption\",\n",
    "    1: \"Low risk consumption\",\n",
    "    2: \"High risk consumption\"\n",
    "}\n",
    "data_alris['val'] = data_alris['val'].replace(alc_ris_mapping)"
   ]
  },
  {
   "cell_type": "code",
   "execution_count": null,
   "id": "d826c7fa-a9e9-43b3-a26d-ba603fa9104a",
   "metadata": {},
   "outputs": [],
   "source": [
    "input_data_trend = add_latest_entry_before_date(\n",
    "    goal_df=input_data_trend,\n",
    "    data_df=data_alris,\n",
    "    source_date_col='dat',          \n",
    "    reference_date_col='dat',        \n",
    "    value_col='val' ,\n",
    "    result_col_name='alcohol_risk_consumption'\n",
    ")"
   ]
  },
  {
   "cell_type": "code",
   "execution_count": null,
   "id": "89011d77-fa4c-4dae-b312-a214cbf26cf1",
   "metadata": {},
   "outputs": [],
   "source": [
    "# Adding MEDEA index from variables_socioeconomiques\n",
    "var_socioeco = pyreadr.read_r(\"/home/dadesSP_berta75/taulesSIDIAP/taulesSIDIAP/ERC_ERC_DM_entregable_variables_socioeconomiques_20240409_202620.rds\")\n",
    "data_var_socioeco = next(iter(var_socioeco.values()))\n",
    "# Add both columns to dataframe\n",
    "input_data_trend = input_data_trend.merge(data_var_socioeco[['idp', 'ruralitat', 'qmedea']], on='idp', how='left')\n",
    "# Check new column for number of NAs\n",
    "# Convert empty strings or spaces to NaN\n",
    "input_data_trend['ruralitat'] = input_data_trend['ruralitat'].replace(r'^\\s*$', np.nan, regex=True)\n",
    "ruralitat_NA = input_data_trend['ruralitat'].isna().sum()\n",
    "print (ruralitat_NA)\n",
    "# Check new column for number of NAs\n",
    "# Convert empty strings or spaces to NaN\n",
    "input_data_trend['qmedea'] = input_data_trend['qmedea'].replace(r'^\\s*$', np.nan, regex=True)\n",
    "qmedea_NA = input_data_trend['qmedea'].isna().sum()\n",
    "print (qmedea_NA)\n",
    "display(input_data_trend)"
   ]
  },
  {
   "cell_type": "code",
   "execution_count": null,
   "id": "eeaf6a2d-4a92-4db5-ba42-7ca6596a0234",
   "metadata": {},
   "outputs": [],
   "source": [
    "# Start Block Comorbidities\n",
    "# creating dataframe data_diagnostics\n",
    "diagnostics = pyreadr.read_r(\"Data_preparation/data_both_diagnostics.rds\")\n",
    "data_diagnostics = next(iter(diagnostics.values()))"
   ]
  },
  {
   "cell_type": "code",
   "execution_count": null,
   "id": "8731be80-d0d2-4834-b8ea-3b4cff9e6438",
   "metadata": {},
   "outputs": [],
   "source": [
    "display(data_diagnostics)"
   ]
  },
  {
   "cell_type": "code",
   "execution_count": null,
   "id": "c61bbb27-efb7-4413-8d5b-e5034efa778b",
   "metadata": {},
   "outputs": [],
   "source": [
    "#hypertension\n",
    "input_data_trend = add_latest_diagnosis_entry(\n",
    "    goal_df=input_data_trend,\n",
    "    diagnostics_df=data_diagnostics,\n",
    "    code_col='cod',\n",
    "    date_col='dat',\n",
    "    code_roots= ['I10', 'I11', 'I12', 'I13', 'I14', 'I15'],\n",
    "    reference_date_col='dat',\n",
    "    result_col_name='hypertension'\n",
    ")"
   ]
  },
  {
   "cell_type": "code",
   "execution_count": null,
   "id": "cdcc7c5b-00b9-40aa-9998-a952fe480148",
   "metadata": {},
   "outputs": [],
   "source": [
    "# dyslipidemia\n",
    "input_data_trend = add_latest_diagnosis_entry(\n",
    "    goal_df=input_data_trend,\n",
    "    diagnostics_df=data_diagnostics,\n",
    "    code_col='cod',\n",
    "    date_col='dat',\n",
    "    code_roots= ['E78'],\n",
    "    reference_date_col='dat',\n",
    "    result_col_name='dyslipidemia'\n",
    ")"
   ]
  },
  {
   "cell_type": "code",
   "execution_count": null,
   "id": "048c417d-0b81-4c0c-9487-3ccb2ad87a53",
   "metadata": {},
   "outputs": [],
   "source": [
    "# Heart failure\n",
    "input_data_trend = add_latest_diagnosis_entry(\n",
    "    goal_df=input_data_trend,\n",
    "    diagnostics_df=data_diagnostics,\n",
    "    code_col='cod',\n",
    "    date_col='dat',\n",
    "    code_roots= ['I50'],\n",
    "    reference_date_col='dat',\n",
    "    result_col_name='heart_failure'\n",
    ")"
   ]
  },
  {
   "cell_type": "code",
   "execution_count": null,
   "id": "6d354465-9a14-423c-a769-f2fb9893c944",
   "metadata": {},
   "outputs": [],
   "source": [
    "# Peripheral artery disease\n",
    "input_data_trend = add_latest_diagnosis_entry(\n",
    "    goal_df=input_data_trend,\n",
    "    diagnostics_df=data_diagnostics,\n",
    "    code_col='cod',\n",
    "    date_col='dat',\n",
    "    fixed_codes=['I73.9'],\n",
    "    reference_date_col='dat',\n",
    "    result_col_name='peripheral_artery_disease'\n",
    ")"
   ]
  },
  {
   "cell_type": "code",
   "execution_count": null,
   "id": "f9953c7b-e580-408b-956e-89d7c768a573",
   "metadata": {},
   "outputs": [],
   "source": [
    "# stroke\n",
    "input_data_trend = add_latest_diagnosis_entry(\n",
    "    goal_df=input_data_trend,\n",
    "    diagnostics_df=data_diagnostics,\n",
    "    code_col='cod',\n",
    "    date_col='dat',\n",
    "    code_roots= ['I61', 'I62', 'I63'],\n",
    "    reference_date_col='dat',\n",
    "    result_col_name='stroke'\n",
    ")"
   ]
  },
  {
   "cell_type": "code",
   "execution_count": null,
   "id": "78d87d41-7b8f-4165-ad43-7b09d1c9d09e",
   "metadata": {},
   "outputs": [],
   "source": [
    "# ischemic heart disease\n",
    "input_data_trend = add_latest_diagnosis_entry(\n",
    "    goal_df=input_data_trend,\n",
    "    diagnostics_df=data_diagnostics,\n",
    "    code_col='cod',\n",
    "    date_col='dat',\n",
    "    code_roots= ['I20', 'I21', 'I22', 'I23','I24', 'I25'],\n",
    "    reference_date_col='dat',\n",
    "    result_col_name='ischemic_heart_disease'\n",
    ")"
   ]
  },
  {
   "cell_type": "code",
   "execution_count": null,
   "id": "653af5a1-2b69-4d2c-83bd-4b58eeb89225",
   "metadata": {},
   "outputs": [],
   "source": [
    "# Chronic kidney disease\n",
    "input_data_trend = add_latest_diagnosis_entry(\n",
    "    goal_df=input_data_trend,\n",
    "    diagnostics_df=data_diagnostics,\n",
    "    code_col='cod',\n",
    "    date_col='dat',\n",
    "    code_roots= ['N18', 'I12', 'I13'],\n",
    "    reference_date_col='dat',\n",
    "    result_col_name='chronic_kidney_disease'\n",
    ")"
   ]
  },
  {
   "cell_type": "code",
   "execution_count": null,
   "id": "ac9c641f-30a5-4192-b6ac-644cb7df531d",
   "metadata": {},
   "outputs": [],
   "source": [
    "#END section comorbidities\n",
    "display(input_data_trend)"
   ]
  },
  {
   "cell_type": "code",
   "execution_count": null,
   "id": "11853916-550c-441c-b204-f5e1e14b62c8",
   "metadata": {},
   "outputs": [],
   "source": [
    "# Adding column BMI from variables cliniques --> subset BMI generated in R\n",
    "BMI = pyreadr.read_r(\"Data_preparation/data_BMI.rds\")\n",
    "data_BMI = next(iter(BMI.values()))"
   ]
  },
  {
   "cell_type": "code",
   "execution_count": null,
   "id": "25446bfe-92bd-421a-a7d0-2504dd4286a2",
   "metadata": {},
   "outputs": [],
   "source": [
    "input_data_trend = add_latest_entry_before_date(\n",
    "    goal_df=input_data_trend,\n",
    "    data_df=data_BMI,\n",
    "    source_date_col='dat',          \n",
    "    reference_date_col='dat',        \n",
    "    value_col='val' ,\n",
    "    result_col_name='BMI'\n",
    ")"
   ]
  },
  {
   "cell_type": "code",
   "execution_count": null,
   "id": "bf015005-b087-405d-991a-db6899225fcd",
   "metadata": {},
   "outputs": [],
   "source": [
    "# Adding column Systolic blood pressure from variables cliniques --> subset SysBP generated in R\n",
    "SysBP = pyreadr.read_r(\"Data_preparation/data_SysBP.rds\")\n",
    "data_SysBP = next(iter(SysBP.values()))"
   ]
  },
  {
   "cell_type": "code",
   "execution_count": null,
   "id": "a424ab5f-a37f-4337-b261-2865dc5aa931",
   "metadata": {},
   "outputs": [],
   "source": [
    "input_data_trend = add_latest_entry_before_date(\n",
    "    goal_df=input_data_trend,\n",
    "    data_df=data_SysBP,\n",
    "    source_date_col='dat',          \n",
    "    reference_date_col='dat',        \n",
    "    value_col='val' ,\n",
    "    result_col_name='systolic_blood_pressure'\n",
    ")"
   ]
  },
  {
   "cell_type": "code",
   "execution_count": null,
   "id": "ba7dfcae-bd7f-474a-8b12-022d1f199ecf",
   "metadata": {},
   "outputs": [],
   "source": [
    "# Adding column Diastolic blood pressure from variables cliniques --> subset DiasBP generated in R\n",
    "DiasBP = pyreadr.read_r(\"Data_preparation/data_DiasBP.rds\")\n",
    "data_DiasBP = next(iter(DiasBP.values()))"
   ]
  },
  {
   "cell_type": "code",
   "execution_count": null,
   "id": "ab725554-bc25-4874-9c4b-bf294b1c7472",
   "metadata": {},
   "outputs": [],
   "source": [
    "input_data_trend = add_latest_entry_before_date(\n",
    "    goal_df=input_data_trend,\n",
    "    data_df=data_DiasBP,\n",
    "    source_date_col='dat',          \n",
    "    reference_date_col='dat',        \n",
    "    value_col='val' ,\n",
    "    result_col_name='diastolic_blood_pressure'\n",
    ")"
   ]
  },
  {
   "cell_type": "code",
   "execution_count": null,
   "id": "9e2adf16-1d18-49ab-928e-9e35ffb60e37",
   "metadata": {},
   "outputs": [],
   "source": [
    "# Adding column cholesterol LDL from variables analitiques --> subset cLDL generated in R\n",
    "cLDL = pyreadr.read_r(\"Data_preparation/data_cLDL.rds\")\n",
    "data_cLDL = next(iter(cLDL.values()))"
   ]
  },
  {
   "cell_type": "code",
   "execution_count": null,
   "id": "dc220b85-51cc-4f67-b151-ad9ec77ea98e",
   "metadata": {},
   "outputs": [],
   "source": [
    "input_data_trend = add_latest_entry_before_date(\n",
    "    goal_df=input_data_trend,\n",
    "    data_df=data_cLDL,\n",
    "    source_date_col='dat',          \n",
    "    reference_date_col='dat',        \n",
    "    value_col='val' ,\n",
    "    result_col_name='cholesterol_LDL'\n",
    ")"
   ]
  },
  {
   "cell_type": "code",
   "execution_count": null,
   "id": "2ef155f5-216e-4f32-86c5-ba1a66848207",
   "metadata": {},
   "outputs": [],
   "source": [
    "# Adding column triglycerides from variables analitiques --> subset trigly generated in R\n",
    "trigly = pyreadr.read_r(\"Data_preparation/data_trigly.rds\")\n",
    "data_trigly = next(iter(trigly.values()))"
   ]
  },
  {
   "cell_type": "code",
   "execution_count": null,
   "id": "226e479c-ad50-490d-80b3-bf95a3076416",
   "metadata": {},
   "outputs": [],
   "source": [
    "input_data_trend = add_latest_entry_before_date(\n",
    "    goal_df=input_data_trend,\n",
    "    data_df=data_trigly,\n",
    "    source_date_col='dat',          \n",
    "    reference_date_col='dat',        \n",
    "    value_col='val' ,\n",
    "    result_col_name='triglycerides'\n",
    ")"
   ]
  },
  {
   "cell_type": "code",
   "execution_count": null,
   "id": "1195d07a-24d7-4eea-9fd6-e46176d95091",
   "metadata": {},
   "outputs": [],
   "source": [
    "# Adding column eGFR from variables analitiques --> subset eGFR generated in R\n",
    "eGFR = pyreadr.read_r(\"Data_preparation/data_eGFR.rds\")\n",
    "data_eGFR = next(iter(eGFR.values()))"
   ]
  },
  {
   "cell_type": "code",
   "execution_count": null,
   "id": "8d04ebe1-c36d-4756-8dfa-23993b68c1be",
   "metadata": {},
   "outputs": [],
   "source": [
    "input_data_trend = add_latest_entry_before_date(\n",
    "    goal_df=input_data_trend,\n",
    "    data_df=data_eGFR,\n",
    "    source_date_col='dat',          \n",
    "    reference_date_col='dat',        \n",
    "    value_col='val' ,\n",
    "    result_col_name='eGFR'\n",
    ")"
   ]
  },
  {
   "cell_type": "code",
   "execution_count": null,
   "id": "d2a73f75-d962-4366-bd80-bdac28d4aa35",
   "metadata": {},
   "outputs": [],
   "source": [
    "# Adding column ACR from variables cliniques --> subset ACR generated in R\n",
    "ACR = pyreadr.read_r(\"Data_preparation/data_ACR.rds\")\n",
    "data_ACR = next(iter(ACR.values()))"
   ]
  },
  {
   "cell_type": "code",
   "execution_count": null,
   "id": "541ef4b9-993f-487b-b39f-14a05370115f",
   "metadata": {},
   "outputs": [],
   "source": [
    "input_data_trend = add_latest_entry_before_date(\n",
    "    goal_df=input_data_trend,\n",
    "    data_df=data_ACR,\n",
    "    source_date_col='dat',          \n",
    "    reference_date_col='dat',        \n",
    "    value_col='val' ,\n",
    "    result_col_name='ACR'\n",
    ")"
   ]
  },
  {
   "cell_type": "code",
   "execution_count": null,
   "id": "a63d19ec-66bb-4fed-bd93-b6ffb638faeb",
   "metadata": {},
   "outputs": [],
   "source": [
    "display(input_data_trend)"
   ]
  },
  {
   "cell_type": "code",
   "execution_count": null,
   "id": "c9f19113-68da-4f66-a1e5-d294bff9cdf0",
   "metadata": {},
   "outputs": [],
   "source": [
    "# Save generated input_data_trend-file\n",
    "input_data_trend.to_csv(\"generated_input_data_trend_NEW.csv\", index=False)"
   ]
  },
  {
   "cell_type": "code",
   "execution_count": null,
   "id": "8f4b7ced-47e7-4120-b37b-5f46ea3df50e",
   "metadata": {},
   "outputs": [],
   "source": []
  }
 ],
 "metadata": {
  "kernelspec": {
   "display_name": "Python 3 (ipykernel)",
   "language": "python",
   "name": "python3"
  },
  "language_info": {
   "codemirror_mode": {
    "name": "ipython",
    "version": 3
   },
   "file_extension": ".py",
   "mimetype": "text/x-python",
   "name": "python",
   "nbconvert_exporter": "python",
   "pygments_lexer": "ipython3",
   "version": "3.10.10"
  }
 },
 "nbformat": 4,
 "nbformat_minor": 5
}
